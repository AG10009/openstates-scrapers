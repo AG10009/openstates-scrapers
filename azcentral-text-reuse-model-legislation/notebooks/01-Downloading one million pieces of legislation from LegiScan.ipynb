{
  "cells": [
    {
      "cell_type": "markdown",
      "metadata": {
        "id": "V5l25CewZjke"
      },
      "source": [
        "## Imports"
      ]
    },
    {
      "cell_type": "code",
      "execution_count": null,
      "metadata": {
        "id": "pfu2taWrZjke"
      },
      "outputs": [],
      "source": [
        "import zipfile\n",
        "import base64\n",
        "import io\n",
        "import glob\n",
        "import time\n",
        "import json\n",
        "import os\n",
        "import requests\n",
        "import mimetypes"
      ]
    },
    {
      "cell_type": "markdown",
      "metadata": {
        "id": "F2YcFdjQZjkf"
      },
      "source": [
        "## pylegiscan\n",
        "\n",
        "To talk to LegiScan's API, we're borrowing some code from [pylegiscan](https://github.com/poliquin/pylegiscan). Since it isn't a package you can install with `pip`, it wound up being easier for distribution to just cut and paste it here."
      ]
    },
    {
      "cell_type": "code",
      "execution_count": null,
      "metadata": {
        "id": "QHfjTtZRZjkg"
      },
      "outputs": [],
      "source": [
        "# Taken from https://github.com/poliquin/pylegiscan/blob/master/pylegiscan/legiscan.py\n",
        "\n",
        "import os\n",
        "import json\n",
        "import requests\n",
        "from urllib.parse import urlencode\n",
        "from urllib.parse import quote_plus\n",
        "\n",
        "# current aggregate status of bill\n",
        "BILL_STATUS = {1: \"Introduced\",\n",
        "               2: \"Engrossed\",\n",
        "               3: \"Enrolled\",\n",
        "               4: \"Passed\",\n",
        "               5: \"Vetoed\",\n",
        "               6: \"Failed/Dead\"}\n",
        "\n",
        "# significant steps in bill progress.\n",
        "BILL_PROGRESS = {1: \"Introduced\",\n",
        "                 2: \"Engrossed\",\n",
        "                 3: \"Enrolled\",\n",
        "                 4: \"Passed\",\n",
        "                 5: \"Vetoed\",\n",
        "                 6: \"Failed/Dead\",\n",
        "                 7: \"Veto Override\",\n",
        "                 8: \"Chapter/Act/Statute\",\n",
        "                 9: \"Committee Referral\",\n",
        "                10: \"Committee Report Pass\",\n",
        "                11: \"Committee Report DNP\"}\n",
        "\n",
        "\n",
        "\"\"\"\n",
        "Interact with LegiScan API.\n",
        "\n",
        "\"\"\"\n",
        "\n",
        "# a helpful list of valid legiscan state abbreviations (no Puerto Rico)\n",
        "STATES = ['ak', 'al', 'ar', 'az', 'ca', 'co', 'ct', 'dc', 'de', 'fl', 'ga',\n",
        "          'hi', 'ia', 'id', 'il', 'in', 'ks', 'ky', 'la', 'ma', 'md', 'me',\n",
        "          'mi', 'mn', 'mo', 'ms', 'mt', 'nc', 'nd', 'ne', 'nh', 'nj', 'nm',\n",
        "          'nv', 'ny', 'oh', 'ok', 'or', 'pa', 'ri', 'sc', 'sd', 'tn', 'tx',\n",
        "          'ut', 'va', 'vt', 'wa', 'wi', 'wv', 'wy']\n",
        "\n",
        "class LegiScanError(Exception):\n",
        "    pass\n",
        "\n",
        "class LegiScan(object):\n",
        "    BASE_URL = 'http://api.legiscan.com/?key={0}&op={1}&{2}'\n",
        "\n",
        "    def __init__(self, apikey=None):\n",
        "        \"\"\"LegiScan API.  State parameters should always be passed as\n",
        "           USPS abbreviations.  Bill numbers and abbreviations are case\n",
        "           insensitive.  Register for API at http://legiscan.com/legiscan\n",
        "        \"\"\"\n",
        "        # see if API key available as environment variable\n",
        "        if apikey is None:\n",
        "            apikey = os.environ['LEGISCAN_API_KEY']\n",
        "        self.key = apikey.strip()\n",
        "\n",
        "    def _url(self, operation, params=None):\n",
        "        \"\"\"Build a URL for querying the API.\"\"\"\n",
        "        if not isinstance(params, str) and params is not None:\n",
        "            params = urlencode(params)\n",
        "        elif params is None:\n",
        "            params = ''\n",
        "        return self.BASE_URL.format(self.key, operation, params)\n",
        "\n",
        "    def _get(self, url):\n",
        "        \"\"\"Get and parse JSON from API for a url.\"\"\"\n",
        "        req = requests.get(url)\n",
        "        if not req.ok:\n",
        "            raise LegiScanError('Request returned {0}: {1}'\\\n",
        "                    .format(req.status_code, url))\n",
        "        data = json.loads(req.content)\n",
        "        if data['status'] == \"ERROR\":\n",
        "            raise LegiScanError(data['alert']['message'])\n",
        "        return data\n",
        "\n",
        "    def get_session_list(self, state):\n",
        "        \"\"\"Get list of available sessions for a state.\"\"\"\n",
        "        url = self._url('getSessionList', {'state': state})\n",
        "        data = self._get(url)\n",
        "        return data['sessions']\n",
        "\n",
        "    def get_dataset_list(self, state=None, year=None):\n",
        "        \"\"\"Get list of available datasets, with optional state and year filtering.\n",
        "        \"\"\"\n",
        "        if state is not None:\n",
        "            url = self._url('getDatasetList', {'state': state})\n",
        "        elif year is not None:\n",
        "            url = self._url('getDatasetList', {'year': year})\n",
        "        else:\n",
        "            url = self._url('getDatasetList')\n",
        "        data = self._get(url)\n",
        "        # return a list of the bills\n",
        "        return data['datasetlist']\n",
        "\n",
        "    def get_dataset(self, id, access_key):\n",
        "        \"\"\"Get list of available datasets, with optional state and year filtering.\n",
        "        \"\"\"\n",
        "        url = self._url('getDataset', {'id': id, 'access_key': access_key})\n",
        "        data = self._get(url)\n",
        "        # return a list of the bills\n",
        "        return data['dataset']\n",
        "\n",
        "    def get_master_list(self, state=None, session_id=None):\n",
        "        \"\"\"Get list of bills for the current session in a state or for\n",
        "           a given session identifier.\n",
        "        \"\"\"\n",
        "        if state is not None:\n",
        "            url = self._url('getMasterList', {'state': state})\n",
        "        elif session_id is not None:\n",
        "            url = self._url('getMasterList', {'id': session_id})\n",
        "        else:\n",
        "            raise ValueError('Must specify session identifier or state.')\n",
        "        data = self._get(url)\n",
        "        # return a list of the bills\n",
        "        return [data['masterlist'][i] for i in data['masterlist']]\n",
        "\n",
        "    def get_bill(self, bill_id=None, state=None, bill_number=None):\n",
        "        \"\"\"Get primary bill detail information including sponsors, committee\n",
        "           references, full history, bill text, and roll call information.\n",
        "\n",
        "           This function expects either a bill identifier or a state and bill\n",
        "           number combination.  The bill identifier is preferred, and required\n",
        "           for fetching bills from prior sessions.\n",
        "        \"\"\"\n",
        "        if bill_id is not None:\n",
        "            url = self._url('getBill', {'id': bill_id})\n",
        "        elif state is not None and bill_number is not None:\n",
        "            url = self._url('getBill', {'state': state, 'bill': bill_number})\n",
        "        else:\n",
        "            raise ValueError('Must specify bill_id or state and bill_number.')\n",
        "        return self._get(url)['bill']\n",
        "\n",
        "    def get_bill_text(self, doc_id):\n",
        "        \"\"\"Get bill text, including date, draft revision information, and\n",
        "           MIME type.  Bill text is base64 encoded to allow for PDF and Word\n",
        "           data transfers.\n",
        "        \"\"\"\n",
        "        url = self._url('getBillText', {'id': doc_id})\n",
        "        return self._get(url)['text']\n",
        "\n",
        "    def get_amendment(self, amendment_id):\n",
        "        \"\"\"Get amendment text including date, adoption status, MIME type, and\n",
        "           title/description information.  The amendment text is base64 encoded\n",
        "           to allow for PDF and Word data transfer.\n",
        "        \"\"\"\n",
        "        url = self._url('getAmendment', {'id': amendment_id})\n",
        "        return self._get(url)['amendment']\n",
        "\n",
        "    def get_supplement(self, supplement_id):\n",
        "        \"\"\"Get supplement text including type of supplement, date, MIME type\n",
        "           and text/description information.  Supplement text is base64 encoded\n",
        "           to allow for PDF and Word data transfer.\n",
        "        \"\"\"\n",
        "        url = self._url('getSupplement', {'id': supplement_id})\n",
        "        return self._get(url)['supplement']\n",
        "\n",
        "    def get_roll_call(self, roll_call_id):\n",
        "        \"\"\"Roll call detail for individual votes and summary information.\"\"\"\n",
        "        data = self._get(self._url('getRollcall', {'id': roll_call_id}))\n",
        "        return data['roll_call']\n",
        "\n",
        "    def get_sponsor(self, people_id):\n",
        "        \"\"\"Sponsor information including name, role, and a followthemoney.org\n",
        "           person identifier.\n",
        "        \"\"\"\n",
        "        url = self._url('getSponsor', {'id': people_id})\n",
        "        return self._get(url)['person']\n",
        "\n",
        "    def search(self, state, bill_number=None, query=None, year=2, page=1):\n",
        "        \"\"\"Get a page of results for a search against the LegiScan full text\n",
        "           engine; returns a paginated result set.\n",
        "\n",
        "           Specify a bill number or a query string.  Year can be an exact year\n",
        "           or a number between 1 and 4, inclusive.  These integers have the\n",
        "           following meanings:\n",
        "               1 = all years\n",
        "               2 = current year, the default\n",
        "               3 = recent years\n",
        "               4 = prior years\n",
        "           Page is the result set page number to return.\n",
        "        \"\"\"\n",
        "        if bill_number is not None:\n",
        "            params = {'state': state, 'bill': bill_number}\n",
        "        elif query is not None:\n",
        "            params = {'state': state, 'query': query,\n",
        "                      'year': year, 'page': page}\n",
        "        else:\n",
        "            raise ValueError('Must specify bill_number or query')\n",
        "        data = self._get(self._url('search', params))['searchresult']\n",
        "        # return a summary of the search and the results as a dictionary\n",
        "        summary = data.pop('summary')\n",
        "        results = {'summary': summary, 'results': [data[i] for i in data]}\n",
        "        return results\n",
        "\n",
        "    def __str__(self):\n",
        "        return '<LegiScan API {0}>'.format(self.key)\n",
        "\n",
        "    def __repr__(self):\n",
        "        return str(self)"
      ]
    },
    {
      "cell_type": "markdown",
      "metadata": {
        "id": "hkrjYV6CZjkg"
      },
      "source": [
        "# Connect to LegiScan\n",
        "\n",
        "Using pylegiscan, you just pass your API key to `LegiScan` and you're good to go. I set up an environment variable for mine, but you can also just paste yours at `OR_PUT_YOUR_API_KEY_HERE`."
      ]
    },
    {
      "cell_type": "code",
      "execution_count": null,
      "metadata": {
        "id": "1xg20Vh1Zjkh"
      },
      "outputs": [],
      "source": [
        "api_key = os.environ.get('LEGISCAN_API_KEY', 'OR_PUT_YOUR_API_KEY_HERE')\n",
        "legis = LegiScan(api_key)"
      ]
    },
    {
      "cell_type": "markdown",
      "metadata": {
        "id": "yiUsrBVMZjkh"
      },
      "source": [
        "If you wanted to search for bills based on state or text, that's easy to do."
      ]
    },
    {
      "cell_type": "code",
      "execution_count": null,
      "metadata": {
        "id": "ROC_gEumZjkh",
        "outputId": "008d09af-5ad8-4ea0-b4b1-b24ca638db3f"
      },
      "outputs": [
        {
          "data": {
            "text/plain": [
              "{'page': '1 of 2',\n",
              " 'range': '1 - 50',\n",
              " 'relevancy': '100% - 87%',\n",
              " 'count': 59,\n",
              " 'page_current': '1',\n",
              " 'page_total': 2,\n",
              " 'query': '(Zabort:(pos=1))'}"
            ]
          },
          "execution_count": 8,
          "metadata": {},
          "output_type": "execute_result"
        }
      ],
      "source": [
        "bills = legis.search(state='tx', query='abortion')\n",
        "bills['summary'] # how many results did we get?"
      ]
    },
    {
      "cell_type": "markdown",
      "metadata": {
        "id": "LSPFXc7OZjki"
      },
      "source": [
        "You can also get single bills, one at a time, as long as you know their ID in the LegiScan database."
      ]
    },
    {
      "cell_type": "markdown",
      "metadata": {
        "id": "loK4wW6FZjkj"
      },
      "source": [
        "# LegiScan Datasets\n",
        "\n",
        "It'd take forever to download the bills one at a time, so we take advantage of LegiScan's [datasets](https://legiscan.com/datasets) capability. They're a whole set of bill data for each session of the legislature."
      ]
    },
    {
      "cell_type": "code",
      "execution_count": null,
      "metadata": {
        "id": "syw-FuMtZjkj",
        "outputId": "da890826-4a31-41d2-9c27-2e5126720d50"
      },
      "outputs": [
        {
          "data": {
            "text/plain": [
              "dict_keys(['state_id', 'session_id', 'session_name', 'dataset_hash', 'dataset_date', 'dataset_size', 'mime_type', 'zip'])"
            ]
          },
          "execution_count": 11,
          "metadata": {},
          "output_type": "execute_result"
        }
      ],
      "source": [
        "datasets = legis.get_dataset_list()\n",
        "dataset = legis.get_dataset(datasets[20]['session_id'], datasets[20]['access_key'])\n",
        "dataset.keys()"
      ]
    },
    {
      "cell_type": "markdown",
      "metadata": {
        "id": "uh38lherZjkj"
      },
      "source": [
        "They come in a _really_ weird format, though: a [base64-encoded](https://en.wikipedia.org/wiki/Base64) zip file. SO first we need to convert the base64 zipfile into a normal file, then unzip it!"
      ]
    },
    {
      "cell_type": "code",
      "execution_count": null,
      "metadata": {
        "id": "j4m_nfDiZjkj"
      },
      "outputs": [],
      "source": [
        "z_bytes = base64.b64decode(dataset['zip'])\n",
        "z = zipfile.ZipFile(io.BytesIO(z_bytes))\n",
        "z.extractall(\"./sample-data\")"
      ]
    },
    {
      "cell_type": "markdown",
      "metadata": {
        "id": "7kEGk7h8Zjkj"
      },
      "source": [
        "It creates a lot lot lot lot lot of `.json` files. For example, let's take a look at a sample of what we just extracted."
      ]
    },
    {
      "cell_type": "markdown",
      "metadata": {
        "id": "-P47dhZGZjkl"
      },
      "source": [
        "# Download and extract all of the datasets from LegiScan"
      ]
    },
    {
      "cell_type": "code",
      "execution_count": null,
      "metadata": {
        "id": "wtkiBoABZjkl",
        "outputId": "97398b7f-53d1-42d0-b888-61ef8387bca4"
      },
      "outputs": [
        {
          "data": {
            "text/plain": [
              "583"
            ]
          },
          "execution_count": 46,
          "metadata": {},
          "output_type": "execute_result"
        }
      ],
      "source": [
        "datasets = legis.get_dataset_list()\n",
        "len(datasets)"
      ]
    },
    {
      "cell_type": "markdown",
      "metadata": {
        "id": "8T_TlDRiZjkm"
      },
      "source": [
        "Downloading and extracting all 583 is going to take a while, so we'll use a progress bar from [tqdm](https://github.com/tqdm/tqdm) to keep track of where we're at."
      ]
    },
    {
      "cell_type": "code",
      "execution_count": null,
      "metadata": {
        "id": "tsGuu5_HZjkm",
        "outputId": "c9d3b333-6d4c-4d79-84e0-e3f784195b45",
        "colab": {
          "referenced_widgets": [
            "d7ce247c10be477e8c20200fcb77e280"
          ]
        }
      },
      "outputs": [
        {
          "data": {
            "application/vnd.jupyter.widget-view+json": {
              "model_id": "d7ce247c10be477e8c20200fcb77e280",
              "version_major": 2,
              "version_minor": 0
            },
            "text/plain": [
              "HBox(children=(IntProgress(value=0, max=583), HTML(value='')))"
            ]
          },
          "metadata": {},
          "output_type": "display_data"
        },
        {
          "name": "stdout",
          "output_type": "stream",
          "text": [
            "\n"
          ]
        }
      ],
      "source": [
        "import tqdm\n",
        "\n",
        "total = len(datasets)\n",
        "for dataset in tqdm.tqdm_notebook(datasets):\n",
        "    session_id = dataset['session_id']\n",
        "    access_key = dataset['access_key']\n",
        "    details = legis.get_dataset(session_id, access_key)\n",
        "    z_bytes = base64.b64decode(details['zip'])\n",
        "    z = zipfile.ZipFile(io.BytesIO(z_bytes))\n",
        "    z.extractall(\"./bill_data\")"
      ]
    },
    {
      "cell_type": "markdown",
      "metadata": {
        "id": "wJi-EZwWZjkm"
      },
      "source": [
        "# Converting the many JSON files to single CSV file\n",
        "\n",
        "The data isn't doing us much good sitting around as a zillion json files, so we'll convert them into a CSV file with the pieces of information we're interested in. Those pieces are:\n",
        "\n",
        "* State\n",
        "* Bill title\n",
        "* Bill URL"
      ]
    },
    {
      "cell_type": "code",
      "execution_count": null,
      "metadata": {
        "id": "7Lcln7R3Zjkm",
        "outputId": "bf8d8404-d9bf-4acd-daf3-9b85e1309742"
      },
      "outputs": [
        {
          "data": {
            "text/plain": [
              "1253402"
            ]
          },
          "execution_count": 5,
          "metadata": {},
          "output_type": "execute_result"
        }
      ],
      "source": [
        "filenames = glob.glob(\"bill_data/*/*/bill/*.json\")\n",
        "len(filenames)"
      ]
    },
    {
      "cell_type": "code",
      "execution_count": null,
      "metadata": {
        "id": "OvC2vTdxZjkm",
        "outputId": "97ecefce-abe2-446a-9503-9c120b82d7a3"
      },
      "outputs": [
        {
          "data": {
            "text/plain": [
              "['bill_data/VT/2011-2012_Regular_Session/bill/HCR143.json',\n",
              " 'bill_data/VT/2011-2012_Regular_Session/bill/H0291.json',\n",
              " 'bill_data/VT/2011-2012_Regular_Session/bill/S0162.json',\n",
              " 'bill_data/VT/2011-2012_Regular_Session/bill/S0027.json',\n",
              " 'bill_data/VT/2011-2012_Regular_Session/bill/H0784.json']"
            ]
          },
          "execution_count": 6,
          "metadata": {},
          "output_type": "execute_result"
        }
      ],
      "source": [
        "filenames[:5]"
      ]
    },
    {
      "cell_type": "code",
      "execution_count": null,
      "metadata": {
        "id": "hrp7jVlgZjkn",
        "outputId": "ef420e23-bc65-4738-a281-f4249c07f2cd",
        "colab": {
          "referenced_widgets": [
            "523ac203bd664e6f95afe6fd739d209a"
          ]
        }
      },
      "outputs": [
        {
          "data": {
            "application/vnd.jupyter.widget-view+json": {
              "model_id": "523ac203bd664e6f95afe6fd739d209a",
              "version_major": 2,
              "version_minor": 0
            },
            "text/plain": [
              "HBox(children=(IntProgress(value=0, description='Pandas Apply', max=1253402, style=ProgressStyle(description_w…"
            ]
          },
          "metadata": {},
          "output_type": "display_data"
        },
        {
          "name": "stdout",
          "output_type": "stream",
          "text": [
            "\n"
          ]
        },
        {
          "data": {
            "text/html": [
              "<div>\n",
              "<style scoped>\n",
              "    .dataframe tbody tr th:only-of-type {\n",
              "        vertical-align: middle;\n",
              "    }\n",
              "\n",
              "    .dataframe tbody tr th {\n",
              "        vertical-align: top;\n",
              "    }\n",
              "\n",
              "    .dataframe thead th {\n",
              "        text-align: right;\n",
              "    }\n",
              "</style>\n",
              "<table border=\"1\" class=\"dataframe\">\n",
              "  <thead>\n",
              "    <tr style=\"text-align: right;\">\n",
              "      <th></th>\n",
              "      <th>bill_id</th>\n",
              "      <th>code</th>\n",
              "      <th>bill_number</th>\n",
              "      <th>title</th>\n",
              "      <th>description</th>\n",
              "      <th>state</th>\n",
              "      <th>session</th>\n",
              "      <th>filename</th>\n",
              "      <th>status</th>\n",
              "      <th>status_date</th>\n",
              "      <th>url</th>\n",
              "    </tr>\n",
              "  </thead>\n",
              "  <tbody>\n",
              "    <tr>\n",
              "      <th>0</th>\n",
              "      <td>325258</td>\n",
              "      <td>HCR143</td>\n",
              "      <td>HCR143</td>\n",
              "      <td>House Concurrent Resolution Congratulating The...</td>\n",
              "      <td>House Concurrent Resolution Congratulating The...</td>\n",
              "      <td>VT</td>\n",
              "      <td>2011-2012 Session</td>\n",
              "      <td>bill_data/VT/2011-2012_Regular_Session/bill/HC...</td>\n",
              "      <td>4</td>\n",
              "      <td>2011-04-22</td>\n",
              "      <td>http://www.leg.state.vt.us/docs/2012/Acts/ACTR...</td>\n",
              "    </tr>\n",
              "    <tr>\n",
              "      <th>1</th>\n",
              "      <td>285625</td>\n",
              "      <td>H0291</td>\n",
              "      <td>H0291</td>\n",
              "      <td>An Act Relating To Raising The Penalties For A...</td>\n",
              "      <td>An Act Relating To Raising The Penalties For A...</td>\n",
              "      <td>VT</td>\n",
              "      <td>2011-2012 Session</td>\n",
              "      <td>bill_data/VT/2011-2012_Regular_Session/bill/H0...</td>\n",
              "      <td>1</td>\n",
              "      <td>2011-02-22</td>\n",
              "      <td>http://www.leg.state.vt.us/docs/2012/bills/Int...</td>\n",
              "    </tr>\n",
              "    <tr>\n",
              "      <th>2</th>\n",
              "      <td>398232</td>\n",
              "      <td>S0162</td>\n",
              "      <td>S0162</td>\n",
              "      <td>An Act Relating To Powers Of Attorney</td>\n",
              "      <td>An Act Relating To Powers Of Attorney</td>\n",
              "      <td>VT</td>\n",
              "      <td>2011-2012 Session</td>\n",
              "      <td>bill_data/VT/2011-2012_Regular_Session/bill/S0...</td>\n",
              "      <td>1</td>\n",
              "      <td>2012-01-03</td>\n",
              "      <td>http://www.leg.state.vt.us/docs/2012/bills/Int...</td>\n",
              "    </tr>\n",
              "    <tr>\n",
              "      <th>3</th>\n",
              "      <td>243054</td>\n",
              "      <td>S0027</td>\n",
              "      <td>S0027</td>\n",
              "      <td>An Act Relating To The Role Of Municipalities ...</td>\n",
              "      <td>An Act Relating To The Role Of Municipalities ...</td>\n",
              "      <td>VT</td>\n",
              "      <td>2011-2012 Session</td>\n",
              "      <td>bill_data/VT/2011-2012_Regular_Session/bill/S0...</td>\n",
              "      <td>1</td>\n",
              "      <td>2011-01-25</td>\n",
              "      <td>http://www.leg.state.vt.us/docs/2012/bills/Int...</td>\n",
              "    </tr>\n",
              "    <tr>\n",
              "      <th>4</th>\n",
              "      <td>417691</td>\n",
              "      <td>H0784</td>\n",
              "      <td>H0784</td>\n",
              "      <td>An Act Relating To Approval Of The Adoption An...</td>\n",
              "      <td>An Act Relating To Approval Of The Adoption An...</td>\n",
              "      <td>VT</td>\n",
              "      <td>2011-2012 Session</td>\n",
              "      <td>bill_data/VT/2011-2012_Regular_Session/bill/H0...</td>\n",
              "      <td>4</td>\n",
              "      <td>2012-05-05</td>\n",
              "      <td>http://www.leg.state.vt.us/docs/2012/Acts/ACTM...</td>\n",
              "    </tr>\n",
              "  </tbody>\n",
              "</table>\n",
              "</div>"
            ],
            "text/plain": [
              "   bill_id    code bill_number  \\\n",
              "0   325258  HCR143      HCR143   \n",
              "1   285625   H0291       H0291   \n",
              "2   398232   S0162       S0162   \n",
              "3   243054   S0027       S0027   \n",
              "4   417691   H0784       H0784   \n",
              "\n",
              "                                               title  \\\n",
              "0  House Concurrent Resolution Congratulating The...   \n",
              "1  An Act Relating To Raising The Penalties For A...   \n",
              "2              An Act Relating To Powers Of Attorney   \n",
              "3  An Act Relating To The Role Of Municipalities ...   \n",
              "4  An Act Relating To Approval Of The Adoption An...   \n",
              "\n",
              "                                         description state            session  \\\n",
              "0  House Concurrent Resolution Congratulating The...    VT  2011-2012 Session   \n",
              "1  An Act Relating To Raising The Penalties For A...    VT  2011-2012 Session   \n",
              "2              An Act Relating To Powers Of Attorney    VT  2011-2012 Session   \n",
              "3  An Act Relating To The Role Of Municipalities ...    VT  2011-2012 Session   \n",
              "4  An Act Relating To Approval Of The Adoption An...    VT  2011-2012 Session   \n",
              "\n",
              "                                            filename  status status_date  \\\n",
              "0  bill_data/VT/2011-2012_Regular_Session/bill/HC...       4  2011-04-22   \n",
              "1  bill_data/VT/2011-2012_Regular_Session/bill/H0...       1  2011-02-22   \n",
              "2  bill_data/VT/2011-2012_Regular_Session/bill/S0...       1  2012-01-03   \n",
              "3  bill_data/VT/2011-2012_Regular_Session/bill/S0...       1  2011-01-25   \n",
              "4  bill_data/VT/2011-2012_Regular_Session/bill/H0...       4  2012-05-05   \n",
              "\n",
              "                                                 url  \n",
              "0  http://www.leg.state.vt.us/docs/2012/Acts/ACTR...  \n",
              "1  http://www.leg.state.vt.us/docs/2012/bills/Int...  \n",
              "2  http://www.leg.state.vt.us/docs/2012/bills/Int...  \n",
              "3  http://www.leg.state.vt.us/docs/2012/bills/Int...  \n",
              "4  http://www.leg.state.vt.us/docs/2012/Acts/ACTM...  "
            ]
          },
          "execution_count": 9,
          "metadata": {},
          "output_type": "execute_result"
        }
      ],
      "source": [
        "import json\n",
        "import os\n",
        "import swifter\n",
        "import pandas as pd\n",
        "\n",
        "def process_json(filename):\n",
        "    with open(filename) as file:\n",
        "        bill_data = {}\n",
        "        # We need to do a little string replacing so the\n",
        "        json_str = file.read().replace('\"0000-00-00\"', 'null')\n",
        "        content = json.loads(json_str)['bill']\n",
        "\n",
        "        bill_data['bill_id'] = content['bill_id']\n",
        "        bill_data['code'] = os.path.splitext(os.path.basename(filename))[0]\n",
        "        bill_data['bill_number'] = content['bill_number']\n",
        "        bill_data['title'] = content['title']\n",
        "        bill_data['description'] = content['description']\n",
        "        bill_data['state'] = content['state']\n",
        "        bill_data['session'] = content['session']['session_name']\n",
        "        bill_data['filename'] = filename\n",
        "        bill_data['status'] = content['status']\n",
        "        bill_data['status_date'] = content['status_date']\n",
        "\n",
        "        try:\n",
        "            bill_data['url'] = content['texts'][-1]['state_link']\n",
        "        except:\n",
        "            pass\n",
        "\n",
        "        return pd.Series(bill_data)\n",
        "\n",
        "df = pd.Series(filenames).swifter.apply(process_json)\n",
        "df.head()"
      ]
    },
    {
      "cell_type": "markdown",
      "metadata": {
        "id": "GTANtZfxZjkn"
      },
      "source": [
        "And now we'll save it to prepare for the next step: **inserting it into a database.**"
      ]
    },
    {
      "cell_type": "code",
      "execution_count": null,
      "metadata": {
        "id": "injgK6yuZjkn"
      },
      "outputs": [],
      "source": [
        "df.to_csv(\"data/bills-with-urls.csv\", index=False)"
      ]
    }
  ],
  "metadata": {
    "kernelspec": {
      "display_name": "Python 3",
      "language": "python",
      "name": "python3"
    },
    "language_info": {
      "codemirror_mode": {
        "name": "ipython",
        "version": 3
      },
      "file_extension": ".py",
      "mimetype": "text/x-python",
      "name": "python",
      "nbconvert_exporter": "python",
      "pygments_lexer": "ipython3",
      "version": "3.6.8"
    },
    "toc": {
      "base_numbering": 1,
      "nav_menu": {},
      "number_sections": true,
      "sideBar": true,
      "skip_h1_title": false,
      "title_cell": "Table of Contents",
      "title_sidebar": "Contents",
      "toc_cell": false,
      "toc_position": {},
      "toc_section_display": true,
      "toc_window_display": false
    },
    "colab": {
      "provenance": []
    }
  },
  "nbformat": 4,
  "nbformat_minor": 0
}